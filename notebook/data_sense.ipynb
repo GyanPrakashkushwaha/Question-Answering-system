{
 "cells": [
  {
   "cell_type": "code",
   "execution_count": 12,
   "metadata": {},
   "outputs": [],
   "source": [
    "import pandas as pd\n",
    "import os\n",
    "from ensure import ensure_annotations\n",
    "import numpy as np"
   ]
  },
  {
   "cell_type": "code",
   "execution_count": 5,
   "metadata": {},
   "outputs": [
    {
     "name": "stdout",
     "output_type": "stream",
     "text": [
      "d:\\vscode_machineLearning\\BEST_PROJECTS\\Question-Answering-system-LLMs\\notebook\n",
      "d:\\vscode_machineLearning\\BEST_PROJECTS\\Question-Answering-system-LLMs\n"
     ]
    }
   ],
   "source": [
    "print((os.getcwd()))\n",
    "os.chdir('d:\\\\vscode_machineLearning\\\\BEST_PROJECTS\\\\Question-Answering-system-LLMs')\n",
    "print((os.getcwd()))"
   ]
  },
  {
   "cell_type": "code",
   "execution_count": 20,
   "metadata": {},
   "outputs": [],
   "source": [
    "@ensure_annotations\n",
    "def random_values(feature_name:str,total=6):\n",
    "    for i in range(0,total):\n",
    "        index = np.random.randint(df.shape[0])\n",
    "        print(index,':',df[feature_name].iloc[index])\n",
    "            "
   ]
  },
  {
   "cell_type": "code",
   "execution_count": 21,
   "metadata": {},
   "outputs": [],
   "source": [
    "@ensure_annotations\n",
    "def random_values_df(col_name:str,df:pd.DataFrame,total=6):\n",
    "    for i in range(0,total):\n",
    "        index = np.random.randint(df.shape[0])\n",
    "        print(index,':',df[col_name].iloc[index])        "
   ]
  },
  {
   "cell_type": "code",
   "execution_count": 105,
   "metadata": {},
   "outputs": [],
   "source": [
    "df = pd.read_csv('data/S08_question_answer_pairs.txt', sep='\\t')\n",
    "# df2 = pd.read_csv('data/S09_question_answer_pairs.txt', sep='\\t')\n",
    "# df3 = pd.read_csv('data/S10_question_answer_pairs.txt', sep='\\t', encoding = 'ISO-8859-1')"
   ]
  },
  {
   "cell_type": "code",
   "execution_count": 106,
   "metadata": {},
   "outputs": [
    {
     "data": {
      "text/html": [
       "<div>\n",
       "<style scoped>\n",
       "    .dataframe tbody tr th:only-of-type {\n",
       "        vertical-align: middle;\n",
       "    }\n",
       "\n",
       "    .dataframe tbody tr th {\n",
       "        vertical-align: top;\n",
       "    }\n",
       "\n",
       "    .dataframe thead th {\n",
       "        text-align: right;\n",
       "    }\n",
       "</style>\n",
       "<table border=\"1\" class=\"dataframe\">\n",
       "  <thead>\n",
       "    <tr style=\"text-align: right;\">\n",
       "      <th></th>\n",
       "      <th>ArticleTitle</th>\n",
       "      <th>Question</th>\n",
       "      <th>Answer</th>\n",
       "      <th>DifficultyFromQuestioner</th>\n",
       "      <th>DifficultyFromAnswerer</th>\n",
       "      <th>ArticleFile</th>\n",
       "    </tr>\n",
       "  </thead>\n",
       "  <tbody>\n",
       "    <tr>\n",
       "      <th>0</th>\n",
       "      <td>Abraham_Lincoln</td>\n",
       "      <td>Was Abraham Lincoln the sixteenth President of...</td>\n",
       "      <td>yes</td>\n",
       "      <td>easy</td>\n",
       "      <td>easy</td>\n",
       "      <td>S08_set3_a4</td>\n",
       "    </tr>\n",
       "    <tr>\n",
       "      <th>1</th>\n",
       "      <td>Abraham_Lincoln</td>\n",
       "      <td>Was Abraham Lincoln the sixteenth President of...</td>\n",
       "      <td>Yes.</td>\n",
       "      <td>easy</td>\n",
       "      <td>easy</td>\n",
       "      <td>S08_set3_a4</td>\n",
       "    </tr>\n",
       "    <tr>\n",
       "      <th>2</th>\n",
       "      <td>Abraham_Lincoln</td>\n",
       "      <td>Did Lincoln sign the National Banking Act of 1...</td>\n",
       "      <td>yes</td>\n",
       "      <td>easy</td>\n",
       "      <td>medium</td>\n",
       "      <td>S08_set3_a4</td>\n",
       "    </tr>\n",
       "    <tr>\n",
       "      <th>3</th>\n",
       "      <td>Abraham_Lincoln</td>\n",
       "      <td>Did Lincoln sign the National Banking Act of 1...</td>\n",
       "      <td>Yes.</td>\n",
       "      <td>easy</td>\n",
       "      <td>easy</td>\n",
       "      <td>S08_set3_a4</td>\n",
       "    </tr>\n",
       "    <tr>\n",
       "      <th>4</th>\n",
       "      <td>Abraham_Lincoln</td>\n",
       "      <td>Did his mother die of pneumonia?</td>\n",
       "      <td>no</td>\n",
       "      <td>easy</td>\n",
       "      <td>medium</td>\n",
       "      <td>S08_set3_a4</td>\n",
       "    </tr>\n",
       "    <tr>\n",
       "      <th>...</th>\n",
       "      <td>...</td>\n",
       "      <td>...</td>\n",
       "      <td>...</td>\n",
       "      <td>...</td>\n",
       "      <td>...</td>\n",
       "      <td>...</td>\n",
       "    </tr>\n",
       "    <tr>\n",
       "      <th>1710</th>\n",
       "      <td>Woodrow_Wilson</td>\n",
       "      <td>Was Wilson president of the American Political...</td>\n",
       "      <td>Yes</td>\n",
       "      <td>NaN</td>\n",
       "      <td>easy</td>\n",
       "      <td>S08_set3_a8</td>\n",
       "    </tr>\n",
       "    <tr>\n",
       "      <th>1711</th>\n",
       "      <td>Woodrow_Wilson</td>\n",
       "      <td>Did he not cast his ballot for John M. Palmer ...</td>\n",
       "      <td>Yes</td>\n",
       "      <td>NaN</td>\n",
       "      <td>easy</td>\n",
       "      <td>S08_set3_a8</td>\n",
       "    </tr>\n",
       "    <tr>\n",
       "      <th>1712</th>\n",
       "      <td>Woodrow_Wilson</td>\n",
       "      <td>Did Wilson not spend 1914 through the beginnin...</td>\n",
       "      <td>Yes</td>\n",
       "      <td>NaN</td>\n",
       "      <td>easy</td>\n",
       "      <td>S08_set3_a8</td>\n",
       "    </tr>\n",
       "    <tr>\n",
       "      <th>1713</th>\n",
       "      <td>Woodrow_Wilson</td>\n",
       "      <td>Was Wilson , a staunch opponent of antisemitis...</td>\n",
       "      <td>Yes</td>\n",
       "      <td>NaN</td>\n",
       "      <td>easy</td>\n",
       "      <td>S08_set3_a8</td>\n",
       "    </tr>\n",
       "    <tr>\n",
       "      <th>1714</th>\n",
       "      <td>Woodrow_Wilson</td>\n",
       "      <td>What happened in 1917?</td>\n",
       "      <td>raised billions through Liberty loans, imposed...</td>\n",
       "      <td>NaN</td>\n",
       "      <td>medium</td>\n",
       "      <td>S08_set3_a8</td>\n",
       "    </tr>\n",
       "  </tbody>\n",
       "</table>\n",
       "<p>1715 rows × 6 columns</p>\n",
       "</div>"
      ],
      "text/plain": [
       "         ArticleTitle                                           Question  \\\n",
       "0     Abraham_Lincoln  Was Abraham Lincoln the sixteenth President of...   \n",
       "1     Abraham_Lincoln  Was Abraham Lincoln the sixteenth President of...   \n",
       "2     Abraham_Lincoln  Did Lincoln sign the National Banking Act of 1...   \n",
       "3     Abraham_Lincoln  Did Lincoln sign the National Banking Act of 1...   \n",
       "4     Abraham_Lincoln                   Did his mother die of pneumonia?   \n",
       "...               ...                                                ...   \n",
       "1710   Woodrow_Wilson  Was Wilson president of the American Political...   \n",
       "1711   Woodrow_Wilson  Did he not cast his ballot for John M. Palmer ...   \n",
       "1712   Woodrow_Wilson  Did Wilson not spend 1914 through the beginnin...   \n",
       "1713   Woodrow_Wilson  Was Wilson , a staunch opponent of antisemitis...   \n",
       "1714   Woodrow_Wilson                             What happened in 1917?   \n",
       "\n",
       "                                                 Answer  \\\n",
       "0                                                   yes   \n",
       "1                                                  Yes.   \n",
       "2                                                   yes   \n",
       "3                                                  Yes.   \n",
       "4                                                    no   \n",
       "...                                                 ...   \n",
       "1710                                                Yes   \n",
       "1711                                                Yes   \n",
       "1712                                                Yes   \n",
       "1713                                                Yes   \n",
       "1714  raised billions through Liberty loans, imposed...   \n",
       "\n",
       "     DifficultyFromQuestioner DifficultyFromAnswerer  ArticleFile  \n",
       "0                        easy                   easy  S08_set3_a4  \n",
       "1                        easy                   easy  S08_set3_a4  \n",
       "2                        easy                 medium  S08_set3_a4  \n",
       "3                        easy                   easy  S08_set3_a4  \n",
       "4                        easy                 medium  S08_set3_a4  \n",
       "...                       ...                    ...          ...  \n",
       "1710                      NaN                   easy  S08_set3_a8  \n",
       "1711                      NaN                   easy  S08_set3_a8  \n",
       "1712                      NaN                   easy  S08_set3_a8  \n",
       "1713                      NaN                   easy  S08_set3_a8  \n",
       "1714                      NaN                 medium  S08_set3_a8  \n",
       "\n",
       "[1715 rows x 6 columns]"
      ]
     },
     "execution_count": 106,
     "metadata": {},
     "output_type": "execute_result"
    }
   ],
   "source": [
    "df"
   ]
  },
  {
   "cell_type": "code",
   "execution_count": 110,
   "metadata": {},
   "outputs": [
    {
     "name": "stdout",
     "output_type": "stream",
     "text": [
      "1336 : baladiyah\n",
      "1093 : the Kunstmuseum Liechtenstein\n",
      "698 : Dominance\n",
      "837 : The Battle of Trenton\n",
      "1105 : Yes\n",
      "1570 : yes\n",
      "1052 : Yes\n",
      "1471 : No\n",
      "1111 : Japan\n",
      "558 : yes\n"
     ]
    }
   ],
   "source": [
    "random_values_df(col_name='Answer',df=df,total=10)"
   ]
  },
  {
   "cell_type": "code",
   "execution_count": null,
   "metadata": {},
   "outputs": [],
   "source": []
  }
 ],
 "metadata": {
  "kernelspec": {
   "display_name": "qnaenv",
   "language": "python",
   "name": "python3"
  },
  "language_info": {
   "codemirror_mode": {
    "name": "ipython",
    "version": 3
   },
   "file_extension": ".py",
   "mimetype": "text/x-python",
   "name": "python",
   "nbconvert_exporter": "python",
   "pygments_lexer": "ipython3",
   "version": "3.11.3"
  },
  "orig_nbformat": 4
 },
 "nbformat": 4,
 "nbformat_minor": 2
}
