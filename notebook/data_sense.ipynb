{
 "cells": [
  {
   "cell_type": "code",
   "execution_count": 111,
   "metadata": {},
   "outputs": [],
   "source": [
    "import json\n",
    "import os\n",
    "from ensure import ensure_annotations\n",
    "import numpy as np"
   ]
  },
  {
   "cell_type": "code",
   "execution_count": 5,
   "metadata": {},
   "outputs": [
    {
     "name": "stdout",
     "output_type": "stream",
     "text": [
      "d:\\vscode_machineLearning\\BEST_PROJECTS\\Question-Answering-system-LLMs\\notebook\n",
      "d:\\vscode_machineLearning\\BEST_PROJECTS\\Question-Answering-system-LLMs\n"
     ]
    }
   ],
   "source": [
    "print((os.getcwd()))\n",
    "os.chdir('d:\\\\vscode_machineLearning\\\\BEST_PROJECTS\\\\Question-Answering-system-LLMs')\n",
    "print((os.getcwd()))"
   ]
  },
  {
   "cell_type": "code",
   "execution_count": 20,
   "metadata": {},
   "outputs": [],
   "source": [
    "@ensure_annotations\n",
    "def random_values(feature_name:str,total=6):\n",
    "    for i in range(0,total):\n",
    "        index = np.random.randint(df.shape[0])\n",
    "        print(index,':',df[feature_name].iloc[index])\n",
    "            "
   ]
  },
  {
   "cell_type": "code",
   "execution_count": 21,
   "metadata": {},
   "outputs": [],
   "source": [
    "@ensure_annotations\n",
    "def random_values_df(col_name:str,df:pd.DataFrame,total=6):\n",
    "    for i in range(0,total):\n",
    "        index = np.random.randint(df.shape[0])\n",
    "        print(index,':',df[col_name].iloc[index])        "
   ]
  },
  {
   "cell_type": "code",
   "execution_count": 112,
   "metadata": {},
   "outputs": [],
   "source": [
    "with open(file=r'data/train.json',mode='rb') as data:\n",
    "    train = json.load(data)"
   ]
  },
  {
   "cell_type": "code",
   "execution_count": 115,
   "metadata": {},
   "outputs": [
    {
     "data": {
      "text/plain": [
       "[{'context': 'Mistborn is a series of epic fantasy novels written by American author Brandon Sanderson.',\n",
       "  'qas': [{'id': '00001',\n",
       "    'is_impossible': False,\n",
       "    'question': 'Who is the author of the Mistborn series?',\n",
       "    'answers': [{'text': 'Brandon Sanderson', 'answer_start': 71}]}]},\n",
       " {'context': 'The first series, published between 2006 and 2008, consists of The Final Empire,The Well of Ascension, and The Hero of Ages.',\n",
       "  'qas': [{'id': '00002',\n",
       "    'is_impossible': False,\n",
       "    'question': 'When was the series published?',\n",
       "    'answers': [{'text': 'between 2006 and 2008', 'answer_start': 28}]},\n",
       "   {'id': '00003',\n",
       "    'is_impossible': False,\n",
       "    'question': 'What are the three books in the series?',\n",
       "    'answers': [{'text': 'The Final Empire, The Well of Ascension, and The Hero of Ages',\n",
       "      'answer_start': 63}]},\n",
       "   {'id': '00004',\n",
       "    'is_impossible': True,\n",
       "    'question': 'Who is the main character in the series?',\n",
       "    'answers': []}]}]"
      ]
     },
     "execution_count": 115,
     "metadata": {},
     "output_type": "execute_result"
    }
   ],
   "source": [
    "train"
   ]
  },
  {
   "cell_type": "code",
   "execution_count": 110,
   "metadata": {},
   "outputs": [
    {
     "name": "stdout",
     "output_type": "stream",
     "text": [
      "1336 : baladiyah\n",
      "1093 : the Kunstmuseum Liechtenstein\n",
      "698 : Dominance\n",
      "837 : The Battle of Trenton\n",
      "1105 : Yes\n",
      "1570 : yes\n",
      "1052 : Yes\n",
      "1471 : No\n",
      "1111 : Japan\n",
      "558 : yes\n"
     ]
    }
   ],
   "source": [
    "random_values_df(col_name='Answer',df=df,total=10)"
   ]
  },
  {
   "cell_type": "code",
   "execution_count": null,
   "metadata": {},
   "outputs": [],
   "source": []
  }
 ],
 "metadata": {
  "kernelspec": {
   "display_name": "qnaenv",
   "language": "python",
   "name": "python3"
  },
  "language_info": {
   "codemirror_mode": {
    "name": "ipython",
    "version": 3
   },
   "file_extension": ".py",
   "mimetype": "text/x-python",
   "name": "python",
   "nbconvert_exporter": "python",
   "pygments_lexer": "ipython3",
   "version": "3.11.3"
  },
  "orig_nbformat": 4
 },
 "nbformat": 4,
 "nbformat_minor": 2
}
